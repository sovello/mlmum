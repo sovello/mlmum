{
 "cells": [
  {
   "cell_type": "code",
   "execution_count": 272,
   "metadata": {},
   "outputs": [],
   "source": [
    "import planeclassifier as pc\n",
    "import numpy as np\n",
    "import os"
   ]
  },
  {
   "cell_type": "code",
   "execution_count": 273,
   "metadata": {},
   "outputs": [],
   "source": [
    "path = os.getcwd()\n",
    "# encode Bomber:0, Fighter:1\n",
    "data = np.loadtxt(path+'/plane_class_data.csv',\n",
    "                  skiprows=1,\n",
    "                  delimiter=\",\",\n",
    "                  usecols = [0, 1, 2],\n",
    "                  converters = {2: lambda p: 0 if p == b'Bomber' else 1}\n",
    "                 )"
   ]
  },
  {
   "cell_type": "code",
   "execution_count": 274,
   "metadata": {},
   "outputs": [
    {
     "data": {
      "text/plain": [
       "array([[ 1. ,  0.1,  0. ],\n",
       "       [ 2. ,  0.2,  0. ],\n",
       "       [ 0.1,  0.3,  1. ],\n",
       "       [ 2. ,  0.3,  0. ],\n",
       "       [ 0.2,  0.4,  1. ],\n",
       "       [ 3. ,  0.4,  0. ],\n",
       "       [ 0.1,  0.5,  1. ],\n",
       "       [ 1.5,  0.5,  0. ],\n",
       "       [ 0.5,  0.6,  1. ],\n",
       "       [ 1.6,  0.7,  1. ]])"
      ]
     },
     "execution_count": 274,
     "metadata": {},
     "output_type": "execute_result"
    }
   ],
   "source": [
    "data"
   ]
  },
  {
   "cell_type": "markdown",
   "metadata": {},
   "source": [
    "### Trying with half training and testing"
   ]
  },
  {
   "cell_type": "code",
   "execution_count": 275,
   "metadata": {},
   "outputs": [],
   "source": [
    "training_data = data[:5,:2]\n",
    "training_target = data[:5, 2:3]\n",
    "test_data = data[5:, :2]\n",
    "test_target = data[5:, 2:3]"
   ]
  },
  {
   "cell_type": "code",
   "execution_count": 276,
   "metadata": {},
   "outputs": [],
   "source": [
    "#train\n",
    "perceptron = pc.SequentialPerceptron(training_data, training_target)\n",
    "\n",
    "# predict\n",
    "perceptron.train_perceptron(training_data, training_target, 0.25, 3)"
   ]
  },
  {
   "cell_type": "code",
   "execution_count": 277,
   "metadata": {},
   "outputs": [
    {
     "name": "stdout",
     "output_type": "stream",
     "text": [
      "[[ 2.  3.]\n",
      " [ 0.  0.]]\n"
     ]
    }
   ],
   "source": [
    "# print matrix\n",
    "print(perceptron.confusion_matrix(test_data, test_target))"
   ]
  },
  {
   "cell_type": "markdown",
   "metadata": {},
   "source": [
    "From the Confusion Matrix The system predicts correctly for the Bomber Planes"
   ]
  },
  {
   "cell_type": "code",
   "execution_count": 278,
   "metadata": {},
   "outputs": [
    {
     "name": "stdout",
     "output_type": "stream",
     "text": [
      "[[ 3.   0.4]\n",
      " [ 0.1  0.5]\n",
      " [ 1.5  0.5]\n",
      " [ 0.5  0.6]\n",
      " [ 1.6  0.7]]\n"
     ]
    }
   ],
   "source": [
    "print(test_data)"
   ]
  },
  {
   "cell_type": "code",
   "execution_count": 279,
   "metadata": {},
   "outputs": [
    {
     "name": "stdout",
     "output_type": "stream",
     "text": [
      "[[ 0.]\n",
      " [ 1.]\n",
      " [ 0.]\n",
      " [ 1.]\n",
      " [ 1.]]\n"
     ]
    }
   ],
   "source": [
    "print(test_target)"
   ]
  },
  {
   "cell_type": "markdown",
   "metadata": {},
   "source": [
    "### Next, let's try to increase the size of the training data set, so we have 8 training sets"
   ]
  },
  {
   "cell_type": "code",
   "execution_count": 280,
   "metadata": {},
   "outputs": [],
   "source": [
    "training_data = data[0:8, :2]\n",
    "training_target = data[0:8, 2:3]\n",
    "test_data = data[8:10, :2]\n",
    "test_target = data[8:10, 2:3]"
   ]
  },
  {
   "cell_type": "code",
   "execution_count": 281,
   "metadata": {},
   "outputs": [
    {
     "name": "stdout",
     "output_type": "stream",
     "text": [
      "[[ 1.]\n",
      " [ 1.]]\n"
     ]
    }
   ],
   "source": [
    "print(test_target)"
   ]
  },
  {
   "cell_type": "markdown",
   "metadata": {},
   "source": [
    "### From the test data above, we should expect all the planes to be Fighters"
   ]
  },
  {
   "cell_type": "code",
   "execution_count": 282,
   "metadata": {},
   "outputs": [],
   "source": [
    "perceptron = pc.SequentialPerceptron(training_data, training_target)\n",
    "\n",
    "# predict\n",
    "perceptron.train_perceptron(training_data, training_target, 0.25, 3)"
   ]
  },
  {
   "cell_type": "code",
   "execution_count": 283,
   "metadata": {},
   "outputs": [
    {
     "name": "stdout",
     "output_type": "stream",
     "text": [
      "[[ 0.  1.]\n",
      " [ 0.  1.]]\n"
     ]
    }
   ],
   "source": [
    "# print matrix\n",
    "print (perceptron.confusion_matrix(test_data, test_target))"
   ]
  },
  {
   "cell_type": "markdown",
   "metadata": {},
   "source": [
    "### The algorithm wrongly predicts the type of the Fighter plane"
   ]
  },
  {
   "cell_type": "markdown",
   "metadata": {},
   "source": [
    "##### Since we only have two targets to predict, we can make the algorithm learn more of one type so it correctly predicts by negating the other element."
   ]
  },
  {
   "cell_type": "code",
   "execution_count": 284,
   "metadata": {},
   "outputs": [],
   "source": [
    "training_data = data[0:9, :2]\n",
    "training_target = data[0:9, 2:3]\n",
    "test_data = data[9:10, :2]\n",
    "test_target = data[9:10, 2:3]"
   ]
  },
  {
   "cell_type": "code",
   "execution_count": 285,
   "metadata": {},
   "outputs": [],
   "source": [
    "perceptron = pc.SequentialPerceptron(training_data, training_target)\n",
    "\n",
    "# predict\n",
    "perceptron.train_perceptron(training_data, training_target, 0.25, 3)"
   ]
  },
  {
   "cell_type": "code",
   "execution_count": 286,
   "metadata": {},
   "outputs": [
    {
     "name": "stdout",
     "output_type": "stream",
     "text": [
      "[[ 0.  1.]\n",
      " [ 0.  0.]]\n"
     ]
    }
   ],
   "source": [
    "# print matrix\n",
    "print (perceptron.confusion_matrix(test_data, test_target))"
   ]
  },
  {
   "cell_type": "markdown",
   "metadata": {},
   "source": [
    "#### Still the problem is not yet solved\n",
    "For this case we use more of the Bomber data in the training and see how it performs, and we will do this manually for now"
   ]
  },
  {
   "cell_type": "code",
   "execution_count": 287,
   "metadata": {},
   "outputs": [],
   "source": [
    "training_data = data[[0, 1, 2,  4, 8, 9, 6, 3],:2]\n",
    "training_target = data[[0, 1, 2,  4, 8, 9, 6, 3], 2:3]\n",
    "test_data = data[[5, 7], :2]\n",
    "test_target = data[[5, 7], 2:3]"
   ]
  },
  {
   "cell_type": "code",
   "execution_count": 288,
   "metadata": {},
   "outputs": [],
   "source": [
    "perceptron = pc.SequentialPerceptron(training_data, training_target)\n",
    "\n",
    "# predict\n",
    "perceptron.train_perceptron(training_data, training_target, 0.25, 3)"
   ]
  },
  {
   "cell_type": "code",
   "execution_count": 289,
   "metadata": {},
   "outputs": [
    {
     "name": "stdout",
     "output_type": "stream",
     "text": [
      "[[ 1.  0.]\n",
      " [ 1.  0.]]\n"
     ]
    }
   ],
   "source": [
    "# print matrix\n",
    "print (perceptron.confusion_matrix(test_data, test_target))"
   ]
  },
  {
   "cell_type": "markdown",
   "metadata": {},
   "source": [
    "#### Improvements:\n",
    "* Normalization:\n",
    "    - We found no need to normalize the data because the values were small\n",
    "* Get more training data so the system learns different combinations of features and be able to predict correctly.\n",
    "* Let the algorithm Learn more of just one type so the it predicts correctly on one type and so automatically everything else is not taken to be of the other type"
   ]
  },
  {
   "cell_type": "markdown",
   "metadata": {},
   "source": [
    "### What if we duplicate the data and do some transformations to the duplicate data so it looks different and try to predict?"
   ]
  },
  {
   "cell_type": "code",
   "execution_count": 290,
   "metadata": {},
   "outputs": [
    {
     "data": {
      "text/plain": [
       "(20, 3)"
      ]
     },
     "execution_count": 290,
     "metadata": {},
     "output_type": "execute_result"
    }
   ],
   "source": [
    "data = np.concatenate((data, data), axis=0)\n",
    "data.shape"
   ]
  },
  {
   "cell_type": "markdown",
   "metadata": {},
   "source": [
    "### Reshuffle the data"
   ]
  },
  {
   "cell_type": "code",
   "execution_count": 291,
   "metadata": {},
   "outputs": [],
   "source": [
    "idx = np.arange(data.shape[0])\n",
    "np.random.shuffle(idx)\n",
    "data = data[idx, :]"
   ]
  },
  {
   "cell_type": "code",
   "execution_count": 220,
   "metadata": {},
   "outputs": [],
   "source": [
    "#### Transforming the data randomly"
   ]
  },
  {
   "cell_type": "code",
   "execution_count": 292,
   "metadata": {},
   "outputs": [],
   "source": [
    "transformer = np.random.rand(20, 2)* 3/2-0.76\n",
    "dataT = data[:, :2] * transformer\n",
    "dataT.shape\n",
    "targets = np.reshape(data[:, 2], (20,1))"
   ]
  },
  {
   "cell_type": "code",
   "execution_count": 293,
   "metadata": {},
   "outputs": [
    {
     "data": {
      "text/plain": [
       "(20, 3)"
      ]
     },
     "execution_count": 293,
     "metadata": {},
     "output_type": "execute_result"
    }
   ],
   "source": [
    "data2 = np.concatenate((dataT, targets), axis=1)\n",
    "data2.shape"
   ]
  },
  {
   "cell_type": "code",
   "execution_count": 294,
   "metadata": {},
   "outputs": [],
   "source": [
    "training = data2[0:15, :2]\n",
    "training_target = np.reshape(data2[0:15, 2], (15,1))\n",
    "testing = data2[15:20, :2]\n",
    "testing_target = data2[15:20, :2]"
   ]
  },
  {
   "cell_type": "code",
   "execution_count": 295,
   "metadata": {},
   "outputs": [],
   "source": [
    "perceptron = pc.SequentialPerceptron(training, training_target)\n",
    "\n",
    "# predict\n",
    "perceptron.train_perceptron(training, training_target, 0.003, 10)"
   ]
  },
  {
   "cell_type": "code",
   "execution_count": 296,
   "metadata": {},
   "outputs": [
    {
     "name": "stdout",
     "output_type": "stream",
     "text": [
      "[[ 2.  3.]\n",
      " [ 0.  0.]]\n"
     ]
    }
   ],
   "source": [
    "# print matrix\n",
    "print (perceptron.confusion_matrix(testing, testing_target))"
   ]
  },
  {
   "cell_type": "markdown",
   "metadata": {},
   "source": [
    "## Early-stopping maybe?"
   ]
  },
  {
   "cell_type": "code",
   "execution_count": 297,
   "metadata": {},
   "outputs": [],
   "source": [
    "training = data2[0:10, :2]\n",
    "training_target = np.reshape(data2[0:10, 2], (10,1))\n",
    "valid = data2[10:17, :2]\n",
    "validt = data2[10:17, 2]\n",
    "testing = data2[17:20, :2]\n",
    "testing_target = data2[17:20, :2]"
   ]
  },
  {
   "cell_type": "code",
   "execution_count": 298,
   "metadata": {},
   "outputs": [],
   "source": [
    "import mlp_algorithm as backprop"
   ]
  },
  {
   "cell_type": "code",
   "execution_count": 299,
   "metadata": {},
   "outputs": [
    {
     "name": "stdout",
     "output_type": "stream",
     "text": [
      "1\n",
      "Iteration:  0  Error:  2.27535106955\n",
      "2\n",
      "Iteration:  0  Error:  1.15331237346\n",
      "3\n",
      "Iteration:  0  Error:  1.057066532\n",
      "4\n",
      "Iteration:  0  Error:  0.686822201558\n",
      "Stopped 9.16358426916 6.35812618711 6.26967181117\n",
      "Confusion matrix is:\n",
      "[[ 2.  1.]\n",
      " [ 0.  0.]]\n",
      "Percentage Correct:  66.6666666667\n"
     ]
    }
   ],
   "source": [
    "net = backprop.mlp(inputs=training,targets=training_target,nhidden=5,outtype='linear')\n",
    "net.earlystopping(training,training_target,valid,validt,0.1)\n",
    "net.confmat(testing,testing_target)"
   ]
  }
 ],
 "metadata": {
  "kernelspec": {
   "display_name": "Python 3",
   "language": "python",
   "name": "python3"
  },
  "language_info": {
   "codemirror_mode": {
    "name": "ipython",
    "version": 3
   },
   "file_extension": ".py",
   "mimetype": "text/x-python",
   "name": "python",
   "nbconvert_exporter": "python",
   "pygments_lexer": "ipython3",
   "version": "3.5.2"
  }
 },
 "nbformat": 4,
 "nbformat_minor": 2
}
